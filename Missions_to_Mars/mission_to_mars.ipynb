{
 "cells": [
  {
   "cell_type": "code",
   "execution_count": 1,
   "metadata": {},
   "outputs": [],
   "source": [
    "# Dependencies\n",
    "from bs4 import BeautifulSoup\n",
    "from splinter import Browser\n",
    "from webdriver_manager.chrome import ChromeDriverManager\n",
    "\n",
    "import pandas as pd\n",
    "import time"
   ]
  },
  {
   "cell_type": "code",
   "execution_count": 2,
   "metadata": {},
   "outputs": [
    {
     "name": "stderr",
     "output_type": "stream",
     "text": [
      "[WDM] - ====== WebDriver manager ======\n",
      "[WDM] - Current google-chrome version is 89.0.4389\n",
      "[WDM] - Get LATEST driver version for 89.0.4389\n"
     ]
    },
    {
     "name": "stdout",
     "output_type": "stream",
     "text": [
      "\n",
      "\n"
     ]
    },
    {
     "name": "stderr",
     "output_type": "stream",
     "text": [
      "[WDM] - Driver [C:\\Users\\pilar\\.wdm\\drivers\\chromedriver\\win32\\89.0.4389.23\\chromedriver.exe] found in cache\n"
     ]
    }
   ],
   "source": [
    "# Setup splinter\n",
    "executable_path = {'executable_path': ChromeDriverManager().install()}\n",
    "browser = Browser('chrome', **executable_path, headless=False)"
   ]
  },
  {
   "cell_type": "code",
   "execution_count": 3,
   "metadata": {},
   "outputs": [],
   "source": [
    "# Create BeautifulSoup object; parse with 'html.parser'\n",
    "url = 'https://redplanetscience.com/'\n",
    "browser.visit(url)\n",
    "html = browser.html\n",
    "soup = BeautifulSoup(html, 'html.parser')"
   ]
  },
  {
   "cell_type": "code",
   "execution_count": 5,
   "metadata": {},
   "outputs": [],
   "source": [
    "# Find the titles and their descriptions\n",
    "news = soup.find_all('div', class_='list_text')"
   ]
  },
  {
   "cell_type": "code",
   "execution_count": 6,
   "metadata": {},
   "outputs": [
    {
     "data": {
      "text/plain": [
       "[<div class=\"list_text\">\n",
       " <div class=\"list_date\">April 2, 2021</div>\n",
       " <div class=\"content_title\">Media Get a Close-Up of NASA's Mars 2020 Rover</div>\n",
       " <div class=\"article_teaser_body\">The clean room at NASA's Jet Propulsion Laboratory was open to the media to see NASA's next Mars explorer before it leaves for Florida in preparation for a summertime launch.</div>\n",
       " </div>,\n",
       " <div class=\"list_text\">\n",
       " <div class=\"list_date\">April 1, 2021</div>\n",
       " <div class=\"content_title\">NASA's Perseverance Rover 100 Days Out</div>\n",
       " <div class=\"article_teaser_body\">Mark your calendars: The agency's latest rover has only about 8,640,000 seconds to go before it touches down on the Red Planet, becoming history's next Mars car.</div>\n",
       " </div>,\n",
       " <div class=\"list_text\">\n",
       " <div class=\"list_date\">April 1, 2021</div>\n",
       " <div class=\"content_title\">Mars 2020 Stands on Its Own Six Wheels</div>\n",
       " <div class=\"article_teaser_body\">In time-lapse video, taken at JPL, captures the first time NASA's Mars 2020 rover carries its full weight on its legs and wheels.</div>\n",
       " </div>,\n",
       " <div class=\"list_text\">\n",
       " <div class=\"list_date\">April 1, 2021</div>\n",
       " <div class=\"content_title\">5 Hidden Gems Are Riding Aboard NASA's Perseverance Rover</div>\n",
       " <div class=\"article_teaser_body\">The symbols, mottos, and small objects added to the agency's newest Mars rover serve a variety of purposes, from functional to decorative.</div>\n",
       " </div>,\n",
       " <div class=\"list_text\">\n",
       " <div class=\"list_date\">March 31, 2021</div>\n",
       " <div class=\"content_title\">AI Is Helping Scientists Discover Fresh Craters on Mars</div>\n",
       " <div class=\"article_teaser_body\">It's the first time machine learning has been used to find previously unknown craters on the Red Planet.</div>\n",
       " </div>,\n",
       " <div class=\"list_text\">\n",
       " <div class=\"list_date\">March 31, 2021</div>\n",
       " <div class=\"content_title\">NASA Prepares for Moon and Mars With New Addition to Its Deep Space Network</div>\n",
       " <div class=\"article_teaser_body\">Robotic spacecraft will be able to communicate with the dish using radio waves and lasers.</div>\n",
       " </div>,\n",
       " <div class=\"list_text\">\n",
       " <div class=\"list_date\">March 31, 2021</div>\n",
       " <div class=\"content_title\">Mars Is Getting a New Robotic Meteorologist</div>\n",
       " <div class=\"article_teaser_body\">Sensors on NASA's Perseverance will help prepare for future human exploration by taking weather measurements and studying dust particles.</div>\n",
       " </div>,\n",
       " <div class=\"list_text\">\n",
       " <div class=\"list_date\">March 30, 2021</div>\n",
       " <div class=\"content_title\">NASA's Mars Helicopter Attached to Mars 2020 Rover </div>\n",
       " <div class=\"article_teaser_body\">The helicopter will be first aircraft to perform flight tests on another planet.</div>\n",
       " </div>,\n",
       " <div class=\"list_text\">\n",
       " <div class=\"list_date\">March 21, 2021</div>\n",
       " <div class=\"content_title\">Sensors on Mars 2020 Spacecraft Answer Long-Distance Call From Earth</div>\n",
       " <div class=\"article_teaser_body\">Instruments tailored to collect data during the descent of NASA's next rover through the Red Planet's atmosphere have been checked in flight.</div>\n",
       " </div>,\n",
       " <div class=\"list_text\">\n",
       " <div class=\"list_date\">March 18, 2021</div>\n",
       " <div class=\"content_title\">Mars InSight Lander to Push on Top of the 'Mole'</div>\n",
       " <div class=\"article_teaser_body\">Engineers have a plan for pushing down on the heat probe, which has been stuck at the Martian surface for a year.</div>\n",
       " </div>,\n",
       " <div class=\"list_text\">\n",
       " <div class=\"list_date\">March 15, 2021</div>\n",
       " <div class=\"content_title\">Naming a NASA Mars Rover Can Change Your Life</div>\n",
       " <div class=\"article_teaser_body\">Want to name the robotic scientist NASA is sending to Mars in 2020? The student who named Curiosity — the rover currently exploring Mars — will tell you this is an opportunity worth taking.</div>\n",
       " </div>,\n",
       " <div class=\"list_text\">\n",
       " <div class=\"list_date\">March 9, 2021</div>\n",
       " <div class=\"content_title\">Q&amp;A with the Student Who Named Ingenuity, NASA's Mars Helicopter</div>\n",
       " <div class=\"article_teaser_body\">As a longtime fan of space exploration, Vaneeza Rupani appreciates the creativity and collaboration involved with trying to fly on another planet.</div>\n",
       " </div>,\n",
       " <div class=\"list_text\">\n",
       " <div class=\"list_date\">March 7, 2021</div>\n",
       " <div class=\"content_title\">NASA's Mars Reconnaissance Orbiter Undergoes Memory Update</div>\n",
       " <div class=\"article_teaser_body\">Other orbiters will continue relaying data from Mars surface missions for a two-week period.</div>\n",
       " </div>,\n",
       " <div class=\"list_text\">\n",
       " <div class=\"list_date\">March 3, 2021</div>\n",
       " <div class=\"content_title\">NASA's MAVEN Observes Martian Night Sky Pulsing in Ultraviolet Light</div>\n",
       " <div class=\"article_teaser_body\">Vast areas of the Martian night sky pulse in ultraviolet light, according to images from NASA’s MAVEN spacecraft. The results are being used to illuminate complex circulation patterns in the Martian atmosphere.</div>\n",
       " </div>,\n",
       " <div class=\"list_text\">\n",
       " <div class=\"list_date\">March 3, 2021</div>\n",
       " <div class=\"content_title\">NASA Updates Mars 2020 Mission Environmental Review</div>\n",
       " <div class=\"article_teaser_body\">NASA and the Department of Energy have completed a more detailed risk analysis for the Mars 2020 rover launch from Florida.</div>\n",
       " </div>]"
      ]
     },
     "execution_count": 6,
     "metadata": {},
     "output_type": "execute_result"
    }
   ],
   "source": [
    "news"
   ]
  },
  {
   "cell_type": "code",
   "execution_count": 13,
   "metadata": {},
   "outputs": [],
   "source": [
    "news_df = pd.DataFrame()\n",
    "\n",
    "for new in news:\n",
    "    # Error handling\n",
    "    try:\n",
    "        # Identify and return title\n",
    "        title = new.find('div', class_='content_title').text\n",
    "        # Identify and return the paragraph of the title\n",
    "        paragraph = new.find('div', class_='article_teaser_body').text\n",
    "        # Print results only if title, price, and link are available\n",
    "        if (title and paragraph):\n",
    "            thisdict = {\n",
    "                \"news_title\": title,\n",
    "                \"news_p\": paragraph\n",
    "            }\n",
    "            news_df = news_df.append(thisdict, ignore_index = True)\n",
    "    except AttributeError as e:\n",
    "        print(e)"
   ]
  },
  {
   "cell_type": "code",
   "execution_count": 14,
   "metadata": {},
   "outputs": [
    {
     "data": {
      "text/html": [
       "<div>\n",
       "<style scoped>\n",
       "    .dataframe tbody tr th:only-of-type {\n",
       "        vertical-align: middle;\n",
       "    }\n",
       "\n",
       "    .dataframe tbody tr th {\n",
       "        vertical-align: top;\n",
       "    }\n",
       "\n",
       "    .dataframe thead th {\n",
       "        text-align: right;\n",
       "    }\n",
       "</style>\n",
       "<table border=\"1\" class=\"dataframe\">\n",
       "  <thead>\n",
       "    <tr style=\"text-align: right;\">\n",
       "      <th></th>\n",
       "      <th>news_p</th>\n",
       "      <th>news_title</th>\n",
       "    </tr>\n",
       "  </thead>\n",
       "  <tbody>\n",
       "    <tr>\n",
       "      <th>0</th>\n",
       "      <td>The clean room at NASA's Jet Propulsion Labora...</td>\n",
       "      <td>Media Get a Close-Up of NASA's Mars 2020 Rover</td>\n",
       "    </tr>\n",
       "    <tr>\n",
       "      <th>1</th>\n",
       "      <td>Mark your calendars: The agency's latest rover...</td>\n",
       "      <td>NASA's Perseverance Rover 100 Days Out</td>\n",
       "    </tr>\n",
       "    <tr>\n",
       "      <th>2</th>\n",
       "      <td>In time-lapse video, taken at JPL, captures th...</td>\n",
       "      <td>Mars 2020 Stands on Its Own Six Wheels</td>\n",
       "    </tr>\n",
       "    <tr>\n",
       "      <th>3</th>\n",
       "      <td>The symbols, mottos, and small objects added t...</td>\n",
       "      <td>5 Hidden Gems Are Riding Aboard NASA's Perseve...</td>\n",
       "    </tr>\n",
       "    <tr>\n",
       "      <th>4</th>\n",
       "      <td>It's the first time machine learning has been ...</td>\n",
       "      <td>AI Is Helping Scientists Discover Fresh Crater...</td>\n",
       "    </tr>\n",
       "    <tr>\n",
       "      <th>5</th>\n",
       "      <td>Robotic spacecraft will be able to communicate...</td>\n",
       "      <td>NASA Prepares for Moon and Mars With New Addit...</td>\n",
       "    </tr>\n",
       "    <tr>\n",
       "      <th>6</th>\n",
       "      <td>Sensors on NASA's Perseverance will help prepa...</td>\n",
       "      <td>Mars Is Getting a New Robotic Meteorologist</td>\n",
       "    </tr>\n",
       "    <tr>\n",
       "      <th>7</th>\n",
       "      <td>The helicopter will be first aircraft to perfo...</td>\n",
       "      <td>NASA's Mars Helicopter Attached to Mars 2020 R...</td>\n",
       "    </tr>\n",
       "    <tr>\n",
       "      <th>8</th>\n",
       "      <td>Instruments tailored to collect data during th...</td>\n",
       "      <td>Sensors on Mars 2020 Spacecraft Answer Long-Di...</td>\n",
       "    </tr>\n",
       "    <tr>\n",
       "      <th>9</th>\n",
       "      <td>Engineers have a plan for pushing down on the ...</td>\n",
       "      <td>Mars InSight Lander to Push on Top of the 'Mole'</td>\n",
       "    </tr>\n",
       "    <tr>\n",
       "      <th>10</th>\n",
       "      <td>Want to name the robotic scientist NASA is sen...</td>\n",
       "      <td>Naming a NASA Mars Rover Can Change Your Life</td>\n",
       "    </tr>\n",
       "    <tr>\n",
       "      <th>11</th>\n",
       "      <td>As a longtime fan of space exploration, Vaneez...</td>\n",
       "      <td>Q&amp;A with the Student Who Named Ingenuity, NASA...</td>\n",
       "    </tr>\n",
       "    <tr>\n",
       "      <th>12</th>\n",
       "      <td>Other orbiters will continue relaying data fro...</td>\n",
       "      <td>NASA's Mars Reconnaissance Orbiter Undergoes M...</td>\n",
       "    </tr>\n",
       "    <tr>\n",
       "      <th>13</th>\n",
       "      <td>Vast areas of the Martian night sky pulse in u...</td>\n",
       "      <td>NASA's MAVEN Observes Martian Night Sky Pulsin...</td>\n",
       "    </tr>\n",
       "    <tr>\n",
       "      <th>14</th>\n",
       "      <td>NASA and the Department of Energy have complet...</td>\n",
       "      <td>NASA Updates Mars 2020 Mission Environmental R...</td>\n",
       "    </tr>\n",
       "  </tbody>\n",
       "</table>\n",
       "</div>"
      ],
      "text/plain": [
       "                                               news_p  \\\n",
       "0   The clean room at NASA's Jet Propulsion Labora...   \n",
       "1   Mark your calendars: The agency's latest rover...   \n",
       "2   In time-lapse video, taken at JPL, captures th...   \n",
       "3   The symbols, mottos, and small objects added t...   \n",
       "4   It's the first time machine learning has been ...   \n",
       "5   Robotic spacecraft will be able to communicate...   \n",
       "6   Sensors on NASA's Perseverance will help prepa...   \n",
       "7   The helicopter will be first aircraft to perfo...   \n",
       "8   Instruments tailored to collect data during th...   \n",
       "9   Engineers have a plan for pushing down on the ...   \n",
       "10  Want to name the robotic scientist NASA is sen...   \n",
       "11  As a longtime fan of space exploration, Vaneez...   \n",
       "12  Other orbiters will continue relaying data fro...   \n",
       "13  Vast areas of the Martian night sky pulse in u...   \n",
       "14  NASA and the Department of Energy have complet...   \n",
       "\n",
       "                                           news_title  \n",
       "0      Media Get a Close-Up of NASA's Mars 2020 Rover  \n",
       "1              NASA's Perseverance Rover 100 Days Out  \n",
       "2              Mars 2020 Stands on Its Own Six Wheels  \n",
       "3   5 Hidden Gems Are Riding Aboard NASA's Perseve...  \n",
       "4   AI Is Helping Scientists Discover Fresh Crater...  \n",
       "5   NASA Prepares for Moon and Mars With New Addit...  \n",
       "6         Mars Is Getting a New Robotic Meteorologist  \n",
       "7   NASA's Mars Helicopter Attached to Mars 2020 R...  \n",
       "8   Sensors on Mars 2020 Spacecraft Answer Long-Di...  \n",
       "9    Mars InSight Lander to Push on Top of the 'Mole'  \n",
       "10      Naming a NASA Mars Rover Can Change Your Life  \n",
       "11  Q&A with the Student Who Named Ingenuity, NASA...  \n",
       "12  NASA's Mars Reconnaissance Orbiter Undergoes M...  \n",
       "13  NASA's MAVEN Observes Martian Night Sky Pulsin...  \n",
       "14  NASA Updates Mars 2020 Mission Environmental R...  "
      ]
     },
     "execution_count": 14,
     "metadata": {},
     "output_type": "execute_result"
    }
   ],
   "source": [
    "news_df"
   ]
  },
  {
   "cell_type": "code",
   "execution_count": 15,
   "metadata": {},
   "outputs": [],
   "source": [
    "browser.quit()"
   ]
  },
  {
   "cell_type": "code",
   "execution_count": null,
   "metadata": {},
   "outputs": [],
   "source": []
  }
 ],
 "metadata": {
  "kernelspec": {
   "display_name": "Python [conda env:pythonData]",
   "language": "python",
   "name": "conda-env-pythonData-py"
  },
  "language_info": {
   "codemirror_mode": {
    "name": "ipython",
    "version": 3
   },
   "file_extension": ".py",
   "mimetype": "text/x-python",
   "name": "python",
   "nbconvert_exporter": "python",
   "pygments_lexer": "ipython3",
   "version": "3.6.10"
  }
 },
 "nbformat": 4,
 "nbformat_minor": 4
}
